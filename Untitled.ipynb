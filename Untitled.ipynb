{
 "cells": [
  {
   "cell_type": "markdown",
   "metadata": {},
   "source": [
    "\"\"\"\n",
    "Sympy solver for calculating the unknown variables in the mass flow rate\n",
    "through a sonic orifice\n",
    "\n",
    "@author: beande\n",
    "\"\"\""
   ]
  },
  {
   "cell_type": "code",
   "execution_count": 16,
   "metadata": {
    "collapsed": true
   },
   "outputs": [],
   "source": [
    "from sympy import Symbol\n",
    "from sympy import *\n",
    "import cantera as ct\n",
    "import numpy as np\n",
    "init_printing()"
   ]
  },
  {
   "cell_type": "code",
   "execution_count": 17,
   "metadata": {
    "collapsed": false
   },
   "outputs": [],
   "source": [
    "m_dot = Symbol('m')\n",
    "A = Symbol('A')\n",
    "P_o = Symbol('P')\n",
    "k = Symbol('k')\n",
    "C_d = Symbol('Cd') \n",
    "P_u = Symbol('P_o')\n",
    "T = Symbol('T')\n",
    "R = Symbol('R')\n",
    "MW = Symbol('MW')\n",
    "\n",
    "# P_u = 700000\n",
    "# R = ct.gas_constant\n",
    "# T = 298\n",
    "# Gas = 'O2'\n",
    "# A = 1e-5\n",
    "# C_d = 0.99"
   ]
  },
  {
   "cell_type": "code",
   "execution_count": 18,
   "metadata": {
    "collapsed": true
   },
   "outputs": [],
   "source": [
    "def Calc_Props(Gas, T, P):\n",
    "    gas = ct.Solution('gri30.cti')\n",
    "    gas.TPX = T, P, '{0}:1'.format(Gas)\n",
    "    rho = gas.density\n",
    "    k = gas.cp_mass/gas.cv_mass\n",
    "    MW = gas.mean_molecular_weight\n",
    "    return rho, k, MW"
   ]
  },
  {
   "cell_type": "code",
   "execution_count": 31,
   "metadata": {
    "collapsed": false
   },
   "outputs": [],
   "source": [
    "# [rho, k, MW] = Calc_Props(Gas, T, P_u)"
   ]
  },
  {
   "cell_type": "markdown",
   "metadata": {},
   "source": [
    "This is what we had previously "
   ]
  },
  {
   "cell_type": "code",
   "execution_count": 21,
   "metadata": {
    "collapsed": false
   },
   "outputs": [
    {
     "data": {
      "image/png": "[encoded data removed]",
      "text/latex": [
       "$$\\frac{A Cd P_{o} k}{\\sqrt{\\frac{R T}{MW k}}} \\sqrt{\\left(\\frac{2}{k + 1}\\right)^{\\frac{k + 1}{k - 1}}}$$"
      ],
      "text/plain": [
       "                 ______________\n",
       "                ╱        k + 1 \n",
       "               ╱         ───── \n",
       "              ╱          k - 1 \n",
       "             ╱    ⎛  2  ⎞      \n",
       "A⋅Cd⋅Pₒ⋅k⋅  ╱     ⎜─────⎟      \n",
       "          ╲╱      ⎝k + 1⎠      \n",
       "───────────────────────────────\n",
       "               ______          \n",
       "              ╱ R⋅T            \n",
       "             ╱  ────           \n",
       "           ╲╱   MW⋅k           "
      ]
     },
     "execution_count": 21,
     "metadata": {},
     "output_type": "execute_result"
    }
   ],
   "source": [
    "m_dot = A*P_u*k*C_d*sqrt((2/(k+1))**((k+1)/(k-1)))/sqrt((R*T)/(k*MW))\n",
    "m_dot\n"
   ]
  },
  {
   "cell_type": "markdown",
   "metadata": {},
   "source": [
    "This is what it is supposed to look like "
   ]
  },
  {
   "cell_type": "code",
   "execution_count": 30,
   "metadata": {
    "collapsed": false
   },
   "outputs": [
    {
     "data": {
      "image/png": "[encoded data removed]",
      "text/latex": [
       "$$\\frac{A Cd P_{o} k}{\\sqrt{\\frac{R T}{MW} k}} \\sqrt{\\left(\\frac{2}{k + 1}\\right)^{\\frac{k + 1}{k - 1}}}$$"
      ],
      "text/plain": [
       "                 ______________\n",
       "                ╱        k + 1 \n",
       "               ╱         ───── \n",
       "              ╱          k - 1 \n",
       "             ╱    ⎛  2  ⎞      \n",
       "A⋅Cd⋅Pₒ⋅k⋅  ╱     ⎜─────⎟      \n",
       "          ╲╱      ⎝k + 1⎠      \n",
       "───────────────────────────────\n",
       "              _______          \n",
       "             ╱ R⋅T⋅k           \n",
       "            ╱  ─────           \n",
       "          ╲╱     MW            "
      ]
     },
     "execution_count": 30,
     "metadata": {},
     "output_type": "execute_result"
    }
   ],
   "source": [
    "m = A * P_u * k * C_d * \\\n",
    "            sqrt(((2/(k+1))**((k+1)/(k-1))))\\\n",
    "            / sqrt((R*T*k)/(MW))\n",
    "m"
   ]
  }
 ],
 "metadata": {
  "kernelspec": {
   "display_name": "Python 3",
   "language": "python",
   "name": "python3"
  },
  "language_info": {
   "codemirror_mode": {
    "name": "ipython",
    "version": 3
   },
   "file_extension": ".py",
   "mimetype": "text/x-python",
   "name": "python",
   "nbconvert_exporter": "python",
   "pygments_lexer": "ipython3",
   "version": "3.6.0"
  }
 },
 "nbformat": 4,
 "nbformat_minor": 2
}
